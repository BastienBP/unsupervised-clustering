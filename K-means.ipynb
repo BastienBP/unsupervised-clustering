{
 "cells": [
  {
   "cell_type": "code",
   "execution_count": 239,
   "metadata": {},
   "outputs": [
    {
     "name": "stderr",
     "output_type": "stream",
     "text": [
      "Using TensorFlow backend.\n"
     ]
    }
   ],
   "source": [
    "import numpy as np\n",
    "import matplotlib.pyplot as plt\n",
    "import keras\n",
    "%matplotlib inline  "
   ]
  },
  {
   "cell_type": "code",
   "execution_count": 241,
   "metadata": {},
   "outputs": [],
   "source": [
    "mnist = keras.datasets.mnist.load_data()"
   ]
  },
  {
   "cell_type": "code",
   "execution_count": 231,
   "metadata": {},
   "outputs": [],
   "source": [
    "ak = 3"
   ]
  },
  {
   "cell_type": "code",
   "execution_count": 232,
   "metadata": {},
   "outputs": [],
   "source": [
    "points = []\n",
    "for i in range(k):\n",
    "    points.extend(np.random.rand(10, 2) + i)\n",
    "    "
   ]
  },
  {
   "cell_type": "code",
   "execution_count": 233,
   "metadata": {},
   "outputs": [],
   "source": [
    "points = np.array(points)"
   ]
  },
  {
   "cell_type": "code",
   "execution_count": 234,
   "metadata": {},
   "outputs": [
    {
     "data": {
      "text/plain": [
       "array([[0.4957548 , 0.52971917],\n",
       "       [0.69078662, 0.94325329],\n",
       "       [0.03949514, 0.28936513],\n",
       "       [0.23224471, 0.6669444 ],\n",
       "       [0.55345766, 0.6374618 ],\n",
       "       [0.41583263, 0.13497866],\n",
       "       [0.61039498, 0.13762215],\n",
       "       [0.67145685, 0.11950728],\n",
       "       [0.85193973, 0.0526762 ],\n",
       "       [0.66006979, 0.95647816],\n",
       "       [1.70511886, 1.04413369],\n",
       "       [1.54620861, 1.52467481],\n",
       "       [1.82109767, 1.45055433],\n",
       "       [1.77922588, 1.69080581],\n",
       "       [1.46677638, 1.66514996],\n",
       "       [1.62035875, 1.1299401 ],\n",
       "       [1.00820546, 1.6275905 ],\n",
       "       [1.37484231, 1.76362393],\n",
       "       [1.25435585, 1.76830374],\n",
       "       [1.09539518, 1.69561192],\n",
       "       [2.51929126, 2.79077199],\n",
       "       [2.36513485, 2.00956269],\n",
       "       [2.61886876, 2.47520502],\n",
       "       [2.62102784, 2.13639501],\n",
       "       [2.84289798, 2.7502908 ],\n",
       "       [2.11395097, 2.8641122 ],\n",
       "       [2.52605924, 2.07548067],\n",
       "       [2.84029223, 2.38968468],\n",
       "       [2.69421476, 2.20793396],\n",
       "       [2.86677347, 2.82567326]])"
      ]
     },
     "execution_count": 234,
     "metadata": {},
     "output_type": "execute_result"
    }
   ],
   "source": [
    "points"
   ]
  },
  {
   "cell_type": "code",
   "execution_count": 235,
   "metadata": {},
   "outputs": [],
   "source": [
    "centroids = points[np.random.choice(points.shape[0], k, replace=False), :]"
   ]
  },
  {
   "cell_type": "code",
   "execution_count": 236,
   "metadata": {},
   "outputs": [
    {
     "data": {
      "text/plain": [
       "<matplotlib.collections.PathCollection at 0x115093438>"
      ]
     },
     "execution_count": 236,
     "metadata": {},
     "output_type": "execute_result"
    },
    {
     "data": {
      "image/png": "[encoded data removed]",
      "text/plain": [
       "<Figure size 432x288 with 1 Axes>"
      ]
     },
     "metadata": {},
     "output_type": "display_data"
    }
   ],
   "source": [
    "def iter_kmeans():\n",
    "    not_finished = True\n",
    "    while not_finished:\n",
    "        labelled_points = []\n",
    "        for i in range(k):\n",
    "            labelled_points.append([])\n",
    "\n",
    "        for point in points:\n",
    "            shortest_i, shortest_distance = 0, 100000000000\n",
    "            for i, centroid in enumerate(centroids):\n",
    "                distance = np.linalg.norm(point - centroid)\n",
    "                if distance < shortest_distance:\n",
    "                    shortest_distance = distance\n",
    "                    shortest_i = i\n",
    "            labelled_points[shortest_i].append(point)\n",
    "\n",
    "        not_finished = False\n",
    "\n",
    "        for i in range(k):\n",
    "            new_centroid = np.mean(labelled_points[i], axis=0)\n",
    "            if not np.array_equal(new_centroid, centroids[i]):\n",
    "                centroids[i] = new_centroid\n",
    "                not_finished = True\n",
    "        \n",
    "        if not not_finished:\n",
    "            return\n",
    "\n",
    "iter_kmeans()\n",
    "\n",
    "plt.scatter(centroids[:, 0], centroids[:, 1])\n",
    "plt.scatter(points[:, 0], points[:, 1])\n"
   ]
  },
  {
   "cell_type": "code",
   "execution_count": 214,
   "metadata": {},
   "outputs": [
    {
     "data": {
      "text/plain": [
       "[1, 2]"
      ]
     },
     "execution_count": 214,
     "metadata": {},
     "output_type": "execute_result"
    }
   ],
   "source": []
  },
  {
   "cell_type": "code",
   "execution_count": null,
   "metadata": {},
   "outputs": [],
   "source": []
  }
 ],
 "metadata": {
  "kernelspec": {
   "display_name": "Python 3",
   "language": "python",
   "name": "python3"
  },
  "language_info": {
   "codemirror_mode": {
    "name": "ipython",
    "version": 3
   },
   "file_extension": ".py",
   "mimetype": "text/x-python",
   "name": "python",
   "nbconvert_exporter": "python",
   "pygments_lexer": "ipython3",
   "version": "3.6.4"
  }
 },
 "nbformat": 4,
 "nbformat_minor": 2
}
