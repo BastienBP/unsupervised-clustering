{
 "cells": [
  {
   "cell_type": "code",
   "execution_count": 43,
   "metadata": {},
   "outputs": [],
   "source": [
    "import numpy as np\n",
    "import matplotlib.pyplot as plt\n",
    "import keras\n",
    "import pandas as pd\n",
    "import scipy\n",
    "import math\n",
    "import sys\n",
    "\n",
    "%matplotlib inline"
   ]
  },
  {
   "cell_type": "code",
   "execution_count": 44,
   "metadata": {},
   "outputs": [],
   "source": [
    "def plot_graph(k, labels, predicted_labels):\n",
    "    hist = []\n",
    "    for i in range(k):\n",
    "        hist.append([])\n",
    "    \n",
    "    for i in range(len(labels)):\n",
    "        hist[labels[i]].append(predicted_labels[i])\n",
    "\n",
    "    plt.hist(hist)"
   ]
  },
  {
   "cell_type": "code",
   "execution_count": 101,
   "metadata": {},
   "outputs": [],
   "source": [
    "def iter_kmeans(points, k, epochs=10000, centroids=None):\n",
    "    not_finished = True\n",
    "    if centroids is None:\n",
    "        random_mask = np.random.choice(points.shape[0], k, replace=False)\n",
    "        centroids = points[random_mask, :]\n",
    "    epoch = 0\n",
    "    labels = []\n",
    "    \n",
    "    while not_finished and epoch < epochs:\n",
    "        labels = []\n",
    "\n",
    "        for point in points:\n",
    "            shortest_i, shortest_distance = None, 10000000000\n",
    "            for i, centroid in enumerate(centroids):\n",
    "                distance = scipy.spatial.distance.euclidean(point, centroid)\n",
    "                if distance <= shortest_distance:\n",
    "                    shortest_distance = distance\n",
    "                    shortest_i = i\n",
    "            labels.append(shortest_i)\n",
    "\n",
    "        labels = np.array(labels)\n",
    "        not_finished = False\n",
    "\n",
    "        for i in range(k):\n",
    "            new_centroid = np.mean(points[np.where(labels == i)], axis=0)\n",
    "            if not np.all(np.isclose(new_centroid, centroids[i])):\n",
    "                centroids[i] = new_centroid\n",
    "                not_finished = True\n",
    "\n",
    "        if epoch != 0 and epoch % (epochs // 10) == 0:\n",
    "            print(epoch)\n",
    "        epoch = epoch + 1\n",
    "        \n",
    "    return labels, centroids\n"
   ]
  },
  {
   "cell_type": "code",
   "execution_count": 46,
   "metadata": {},
   "outputs": [
    {
     "data": {
      "text/plain": [
       "<matplotlib.collections.PathCollection at 0x122deac88>"
      ]
     },
     "execution_count": 46,
     "metadata": {},
     "output_type": "execute_result"
    },
    {
     "data": {
      "image/png": "[encoded data removed]",
      "text/plain": [
       "<Figure size 432x288 with 1 Axes>"
      ]
     },
     "metadata": {},
     "output_type": "display_data"
    }
   ],
   "source": [
    "k = 3\n",
    "points = []\n",
    "for i in range(k):\n",
    "    points.extend((np.random.rand(15, 2)) / 2 + (i - 1.5) * (i - 1.5))\n",
    "\n",
    "points = np.array(points)\n",
    "labels, centroids = iter_kmeans(points, k)\n",
    "\n",
    "plt.scatter(centroids[:, 0], centroids[:, 1])\n",
    "plt.scatter(points[:, 0], points[:, 1], c=labels)"
   ]
  },
  {
   "cell_type": "code",
   "execution_count": 102,
   "metadata": {},
   "outputs": [],
   "source": [
    "(x_train, y_train), (x_test, y_test) = keras.datasets.mnist.load_data()\n",
    "x_train = x_train.reshape(x_train.shape[0], x_train.shape[1] * x_train.shape[2])\n",
    "x_train = x_train.astype('float32') / 255.0\n",
    "x_test = x_test.reshape(x_test.shape[0], x_test.shape[1] * x_test.shape[2])\n",
    "x_test = x_test.astype('float32') / 255.0"
   ]
  },
  {
   "cell_type": "code",
   "execution_count": 103,
   "metadata": {},
   "outputs": [],
   "source": [
    "mask_0 = np.where(y_train == 0)\n",
    "mask_1 = np.where(y_train == 1)"
   ]
  },
  {
   "cell_type": "code",
   "execution_count": 104,
   "metadata": {
    "scrolled": true
   },
   "outputs": [],
   "source": [
    "sub_x_train = np.concatenate((x_train[mask_0][:500], x_train[mask_1][:500]))\n",
    "sub_y_train = np.concatenate((y_train[mask_0][:500], y_train[mask_1][:500]))"
   ]
  },
  {
   "cell_type": "code",
   "execution_count": 114,
   "metadata": {
    "scrolled": true
   },
   "outputs": [
    {
     "name": "stdout",
     "output_type": "stream",
     "text": [
      "10\n",
      "20\n",
      "30\n",
      "40\n",
      "50\n",
      "60\n",
      "70\n",
      "80\n",
      "90\n"
     ]
    }
   ],
   "source": [
    "labels, centroids = iter_kmeans(x_train, 10, epochs=100)"
   ]
  },
  {
   "cell_type": "code",
   "execution_count": 115,
   "metadata": {},
   "outputs": [
    {
     "data": {
      "image/png": "[encoded data removed]",
      "text/plain": [
       "<Figure size 432x288 with 1 Axes>"
      ]
     },
     "metadata": {},
     "output_type": "display_data"
    }
   ],
   "source": [
    "plot_graph(10, y_train, labels.astype('uint8'))"
   ]
  },
  {
   "cell_type": "code",
   "execution_count": null,
   "metadata": {},
   "outputs": [],
   "source": []
  },
  {
   "cell_type": "code",
   "execution_count": 70,
   "metadata": {},
   "outputs": [],
   "source": [
    "from keras.layers import Input, Dense\n",
    "from keras.models import Model"
   ]
  },
  {
   "cell_type": "code",
   "execution_count": 71,
   "metadata": {},
   "outputs": [
    {
     "data": {
      "text/plain": [
       "(60000, 784)"
      ]
     },
     "execution_count": 71,
     "metadata": {},
     "output_type": "execute_result"
    }
   ],
   "source": [
    "x_train.shape"
   ]
  },
  {
   "cell_type": "code",
   "execution_count": 74,
   "metadata": {},
   "outputs": [],
   "source": [
    "encoding_dim = 32  \n",
    "\n",
    "input_img = Input(shape=(x_train.shape[1],))\n",
    "\n",
    "encoded = Dense(encoding_dim, activation='relu')(input_img)\n",
    "\n",
    "decoded = Dense(x_train.shape[1], activation='sigmoid')(encoded)\n",
    "\n",
    "autoencoder = Model(input_img, decoded)\n",
    "\n",
    "encoder = Model(input_img, encoded)\n",
    "\n",
    "\n",
    "encoded_input = Input(shape=(encoding_dim,))\n",
    "\n",
    "decoder_layer = autoencoder.layers[-1]\n",
    "\n",
    "decoder = Model(encoded_input, decoder_layer(encoded_input))\n",
    "\n",
    "autoencoder.compile(optimizer='adadelta', loss='binary_crossentropy', metrics=['accuracy'])"
   ]
  },
  {
   "cell_type": "code",
   "execution_count": 95,
   "metadata": {},
   "outputs": [
    {
     "name": "stdout",
     "output_type": "stream",
     "text": [
      "Train on 60000 samples, validate on 10000 samples\n",
      "Epoch 1/50\n",
      "60000/60000 [==============================] - 2s 28us/step - loss: 0.1040 - acc: 0.8134 - val_loss: 0.1022 - val_acc: 0.8125\n",
      "Epoch 2/50\n",
      "60000/60000 [==============================] - 2s 28us/step - loss: 0.1037 - acc: 0.8134 - val_loss: 0.1019 - val_acc: 0.8126\n",
      "Epoch 3/50\n",
      "60000/60000 [==============================] - 2s 27us/step - loss: 0.1034 - acc: 0.8134 - val_loss: 0.1016 - val_acc: 0.8126\n",
      "Epoch 4/50\n",
      "60000/60000 [==============================] - 2s 27us/step - loss: 0.1031 - acc: 0.8135 - val_loss: 0.1014 - val_acc: 0.8126\n",
      "Epoch 5/50\n",
      "60000/60000 [==============================] - 2s 27us/step - loss: 0.1029 - acc: 0.8135 - val_loss: 0.1011 - val_acc: 0.8126\n",
      "Epoch 6/50\n",
      "60000/60000 [==============================] - 2s 27us/step - loss: 0.1026 - acc: 0.8135 - val_loss: 0.1009 - val_acc: 0.8127\n",
      "Epoch 7/50\n",
      "60000/60000 [==============================] - 2s 28us/step - loss: 0.1024 - acc: 0.8135 - val_loss: 0.1007 - val_acc: 0.8127\n",
      "Epoch 8/50\n",
      "60000/60000 [==============================] - 2s 27us/step - loss: 0.1022 - acc: 0.8135 - val_loss: 0.1005 - val_acc: 0.8127\n",
      "Epoch 9/50\n",
      "60000/60000 [==============================] - 2s 28us/step - loss: 0.1020 - acc: 0.8136 - val_loss: 0.1003 - val_acc: 0.8127\n",
      "Epoch 10/50\n",
      "60000/60000 [==============================] - 2s 28us/step - loss: 0.1018 - acc: 0.8136 - val_loss: 0.1001 - val_acc: 0.8127\n",
      "Epoch 11/50\n",
      "60000/60000 [==============================] - 2s 29us/step - loss: 0.1016 - acc: 0.8136 - val_loss: 0.0999 - val_acc: 0.8127\n",
      "Epoch 12/50\n",
      "60000/60000 [==============================] - 2s 29us/step - loss: 0.1014 - acc: 0.8136 - val_loss: 0.0998 - val_acc: 0.8127\n",
      "Epoch 13/50\n",
      "60000/60000 [==============================] - 2s 29us/step - loss: 0.1013 - acc: 0.8136 - val_loss: 0.0996 - val_acc: 0.8128\n",
      "Epoch 14/50\n",
      "60000/60000 [==============================] - 2s 29us/step - loss: 0.1011 - acc: 0.8136 - val_loss: 0.0994 - val_acc: 0.8128\n",
      "Epoch 15/50\n",
      "60000/60000 [==============================] - 2s 30us/step - loss: 0.1010 - acc: 0.8136 - val_loss: 0.0993 - val_acc: 0.8128\n",
      "Epoch 16/50\n",
      "60000/60000 [==============================] - 2s 30us/step - loss: 0.1008 - acc: 0.8136 - val_loss: 0.0992 - val_acc: 0.8128\n",
      "Epoch 17/50\n",
      "60000/60000 [==============================] - 2s 29us/step - loss: 0.1007 - acc: 0.8137 - val_loss: 0.0990 - val_acc: 0.8128\n",
      "Epoch 18/50\n",
      "60000/60000 [==============================] - 2s 32us/step - loss: 0.1006 - acc: 0.8137 - val_loss: 0.0989 - val_acc: 0.8128\n",
      "Epoch 19/50\n",
      "60000/60000 [==============================] - 2s 31us/step - loss: 0.1005 - acc: 0.8137 - val_loss: 0.0988 - val_acc: 0.8128\n",
      "Epoch 20/50\n",
      "60000/60000 [==============================] - 2s 28us/step - loss: 0.1003 - acc: 0.8137 - val_loss: 0.0987 - val_acc: 0.8128\n",
      "Epoch 21/50\n",
      "60000/60000 [==============================] - 2s 28us/step - loss: 0.1002 - acc: 0.8137 - val_loss: 0.0986 - val_acc: 0.8128\n",
      "Epoch 22/50\n",
      "60000/60000 [==============================] - 2s 30us/step - loss: 0.1001 - acc: 0.8137 - val_loss: 0.0985 - val_acc: 0.8129\n",
      "Epoch 23/50\n",
      "60000/60000 [==============================] - 2s 32us/step - loss: 0.1000 - acc: 0.8137 - val_loss: 0.0984 - val_acc: 0.8129\n",
      "Epoch 24/50\n",
      "60000/60000 [==============================] - 2s 32us/step - loss: 0.0999 - acc: 0.8137 - val_loss: 0.0983 - val_acc: 0.8128\n",
      "Epoch 25/50\n",
      "60000/60000 [==============================] - 2s 30us/step - loss: 0.0998 - acc: 0.8137 - val_loss: 0.0982 - val_acc: 0.8129\n",
      "Epoch 26/50\n",
      "60000/60000 [==============================] - 2s 30us/step - loss: 0.0997 - acc: 0.8137 - val_loss: 0.0981 - val_acc: 0.8128\n",
      "Epoch 27/50\n",
      "60000/60000 [==============================] - 2s 33us/step - loss: 0.0997 - acc: 0.8137 - val_loss: 0.0981 - val_acc: 0.8129\n",
      "Epoch 28/50\n",
      "60000/60000 [==============================] - 2s 32us/step - loss: 0.0996 - acc: 0.8137 - val_loss: 0.0980 - val_acc: 0.8129\n",
      "Epoch 29/50\n",
      "60000/60000 [==============================] - 2s 31us/step - loss: 0.0995 - acc: 0.8137 - val_loss: 0.0979 - val_acc: 0.8129\n",
      "Epoch 30/50\n",
      "60000/60000 [==============================] - 2s 31us/step - loss: 0.0994 - acc: 0.8137 - val_loss: 0.0978 - val_acc: 0.8129\n",
      "Epoch 31/50\n",
      "60000/60000 [==============================] - 2s 31us/step - loss: 0.0993 - acc: 0.8138 - val_loss: 0.0978 - val_acc: 0.8129\n",
      "Epoch 32/50\n",
      "60000/60000 [==============================] - 2s 31us/step - loss: 0.0993 - acc: 0.8138 - val_loss: 0.0977 - val_acc: 0.8129\n",
      "Epoch 33/50\n",
      "60000/60000 [==============================] - 2s 31us/step - loss: 0.0992 - acc: 0.8138 - val_loss: 0.0976 - val_acc: 0.8129\n",
      "Epoch 34/50\n",
      "60000/60000 [==============================] - 2s 31us/step - loss: 0.0991 - acc: 0.8138 - val_loss: 0.0975 - val_acc: 0.8129\n",
      "Epoch 35/50\n",
      "60000/60000 [==============================] - 2s 32us/step - loss: 0.0991 - acc: 0.8138 - val_loss: 0.0975 - val_acc: 0.8129\n",
      "Epoch 36/50\n",
      "60000/60000 [==============================] - 2s 31us/step - loss: 0.0990 - acc: 0.8138 - val_loss: 0.0974 - val_acc: 0.8129\n",
      "Epoch 37/50\n",
      "60000/60000 [==============================] - 2s 31us/step - loss: 0.0989 - acc: 0.8138 - val_loss: 0.0973 - val_acc: 0.8129\n",
      "Epoch 38/50\n",
      "60000/60000 [==============================] - 2s 32us/step - loss: 0.0989 - acc: 0.8138 - val_loss: 0.0973 - val_acc: 0.8129\n",
      "Epoch 39/50\n",
      "60000/60000 [==============================] - 2s 31us/step - loss: 0.0988 - acc: 0.8138 - val_loss: 0.0972 - val_acc: 0.8129\n",
      "Epoch 40/50\n",
      "60000/60000 [==============================] - 2s 31us/step - loss: 0.0987 - acc: 0.8138 - val_loss: 0.0972 - val_acc: 0.8129\n",
      "Epoch 41/50\n",
      "60000/60000 [==============================] - 2s 31us/step - loss: 0.0986 - acc: 0.8138 - val_loss: 0.0971 - val_acc: 0.8129\n",
      "Epoch 42/50\n",
      "60000/60000 [==============================] - 2s 32us/step - loss: 0.0986 - acc: 0.8138 - val_loss: 0.0970 - val_acc: 0.8129\n",
      "Epoch 43/50\n",
      "60000/60000 [==============================] - 2s 33us/step - loss: 0.0985 - acc: 0.8138 - val_loss: 0.0970 - val_acc: 0.8129\n",
      "Epoch 44/50\n",
      "60000/60000 [==============================] - 2s 31us/step - loss: 0.0984 - acc: 0.8138 - val_loss: 0.0969 - val_acc: 0.8129\n",
      "Epoch 45/50\n",
      "60000/60000 [==============================] - 2s 31us/step - loss: 0.0984 - acc: 0.8138 - val_loss: 0.0968 - val_acc: 0.8130\n",
      "Epoch 46/50\n",
      "60000/60000 [==============================] - 2s 30us/step - loss: 0.0983 - acc: 0.8138 - val_loss: 0.0968 - val_acc: 0.8129\n",
      "Epoch 47/50\n",
      "60000/60000 [==============================] - 2s 30us/step - loss: 0.0982 - acc: 0.8138 - val_loss: 0.0967 - val_acc: 0.8130\n",
      "Epoch 48/50\n",
      "60000/60000 [==============================] - 2s 31us/step - loss: 0.0982 - acc: 0.8138 - val_loss: 0.0966 - val_acc: 0.8129\n",
      "Epoch 49/50\n",
      "60000/60000 [==============================] - 2s 31us/step - loss: 0.0981 - acc: 0.8138 - val_loss: 0.0966 - val_acc: 0.8130\n",
      "Epoch 50/50\n",
      "60000/60000 [==============================] - 2s 30us/step - loss: 0.0980 - acc: 0.8139 - val_loss: 0.0965 - val_acc: 0.8130\n"
     ]
    },
    {
     "data": {
      "text/plain": [
       "<keras.callbacks.History at 0x11d77cf98>"
      ]
     },
     "execution_count": 95,
     "metadata": {},
     "output_type": "execute_result"
    }
   ],
   "source": [
    "autoencoder.fit(x_train, x_train,\n",
    "                epochs=50,\n",
    "                batch_size=256,\n",
    "                shuffle=True,\n",
    "                validation_data=(x_test, x_test))"
   ]
  },
  {
   "cell_type": "code",
   "execution_count": null,
   "metadata": {},
   "outputs": [],
   "source": []
  }
 ],
 "metadata": {
  "kernelspec": {
   "display_name": "Python 3",
   "language": "python",
   "name": "python3"
  },
  "language_info": {
   "codemirror_mode": {
    "name": "ipython",
    "version": 3
   },
   "file_extension": ".py",
   "mimetype": "text/x-python",
   "name": "python",
   "nbconvert_exporter": "python",
   "pygments_lexer": "ipython3",
   "version": "3.6.4"
  }
 },
 "nbformat": 4,
 "nbformat_minor": 2
}
