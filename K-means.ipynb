{
 "cells": [
  {
   "cell_type": "code",
   "execution_count": 393,
   "metadata": {},
   "outputs": [],
   "source": [
    "import numpy as np\n",
    "import matplotlib.pyplot as plt\n",
    "import keras\n",
    "import pandas as pd\n",
    "import scipy\n",
    "import math\n",
    "\n",
    "%matplotlib inline  "
   ]
  },
  {
   "cell_type": "code",
   "execution_count": 412,
   "metadata": {},
   "outputs": [],
   "source": [
    "def iter_kmeans(points, k, epochs=10000):\n",
    "    not_finished = True\n",
    "    centroids = points[np.random.choice(points.shape[0], k, replace=False), :]\n",
    "    epoch = 0\n",
    "    labels = []\n",
    "    \n",
    "    while not_finished and epoch < epochs:\n",
    "        labels = []\n",
    "        for i in range(k):\n",
    "            labelled_points.append([])\n",
    "\n",
    "        for point in points:\n",
    "            shortest_i, shortest_distance = 0, 100000000000\n",
    "            for i, centroid in enumerate(centroids):\n",
    "                distance = scipy.spatial.distance.euclidean(point, centroid)\n",
    "                if distance < shortest_distance:\n",
    "                    shortest_distance = distance\n",
    "                    shortest_i = i\n",
    "            labels.append(shortest_i)\n",
    "\n",
    "        labels = np.array(labels)\n",
    "        not_finished = False\n",
    "\n",
    "        for i in range(k):\n",
    "            new_centroid = np.mean(points[np.where(labels == i)], axis=0)\n",
    "            if not np.all(np.isclose(new_centroid, centroids[i])):\n",
    "                centroids[i] = new_centroid\n",
    "                not_finished = True\n",
    "\n",
    "#        if epoch != 0  and epoch % 1000 == 0:\n",
    "        epoch = epoch + 1\n",
    "\n",
    "    return labels, centroids\n"
   ]
  },
  {
   "cell_type": "code",
   "execution_count": 413,
   "metadata": {},
   "outputs": [
    {
     "data": {
      "text/plain": [
       "<matplotlib.collections.PathCollection at 0x12dd93160>"
      ]
     },
     "execution_count": 413,
     "metadata": {},
     "output_type": "execute_result"
    },
    {
     "data": {
      "image/png": "[encoded data removed]",
      "text/plain": [
       "<Figure size 432x288 with 1 Axes>"
      ]
     },
     "metadata": {},
     "output_type": "display_data"
    }
   ],
   "source": [
    "k = 3\n",
    "points = []\n",
    "for i in range(k):\n",
    "    points.extend(np.random.rand(10, 2) + i)\n",
    "\n",
    "points = np.array(points)\n",
    "labels, centroids = iter_kmeans(points, k)\n",
    "\n",
    "plt.scatter(centroids[:, 0], centroids[:, 1])\n",
    "plt.scatter(points[:, 0], points[:, 1])"
   ]
  },
  {
   "cell_type": "code",
   "execution_count": 309,
   "metadata": {},
   "outputs": [],
   "source": [
    "(x_train, y_train), (x_test, y_test) = keras.datasets.mnist.load_data()"
   ]
  },
  {
   "cell_type": "code",
   "execution_count": 310,
   "metadata": {},
   "outputs": [],
   "source": [
    "x_train = x_train.reshape(x_train.shape[0], x_train.shape[1] * x_train.shape[2])"
   ]
  },
  {
   "cell_type": "code",
   "execution_count": 299,
   "metadata": {},
   "outputs": [],
   "source": [
    "mask_0 = np.where(y_train == 0)\n",
    "mask_1 = np.where(y_train == 1)"
   ]
  },
  {
   "cell_type": "code",
   "execution_count": 354,
   "metadata": {
    "scrolled": true
   },
   "outputs": [],
   "source": [
    "sub_x_train = np.concatenate((x_train[mask_0][:10], x_train[mask_1][:10]))"
   ]
  },
  {
   "cell_type": "code",
   "execution_count": 356,
   "metadata": {
    "scrolled": true
   },
   "outputs": [
    {
     "data": {
      "text/plain": [
       "(20, 784)"
      ]
     },
     "execution_count": 356,
     "metadata": {},
     "output_type": "execute_result"
    }
   ],
   "source": [
    "sub_x_train.shape"
   ]
  },
  {
   "cell_type": "code",
   "execution_count": 422,
   "metadata": {
    "scrolled": true
   },
   "outputs": [
    {
     "name": "stderr",
     "output_type": "stream",
     "text": [
      "/Users/pascalluttgens/.pyenv/versions/anaconda3-4.4.0/envs/clustering/lib/python3.6/site-packages/numpy/core/fromnumeric.py:2957: RuntimeWarning: Mean of empty slice.\n",
      "  out=out, **kwargs)\n",
      "/Users/pascalluttgens/.pyenv/versions/anaconda3-4.4.0/envs/clustering/lib/python3.6/site-packages/numpy/core/_methods.py:73: RuntimeWarning: invalid value encountered in true_divide\n",
      "  ret, rcount, out=ret, casting='unsafe', subok=False)\n"
     ]
    }
   ],
   "source": [
    "labels, centroids = iter_kmeans(sub_x_train, 2, epochs=10000)"
   ]
  },
  {
   "cell_type": "code",
   "execution_count": 423,
   "metadata": {
    "scrolled": true
   },
   "outputs": [
    {
     "data": {
      "text/plain": [
       "array([1, 1, 1, 1, 1, 1, 1, 1, 1, 1, 1, 1, 1, 1, 1, 1, 1, 1, 1, 1])"
      ]
     },
     "execution_count": 423,
     "metadata": {},
     "output_type": "execute_result"
    }
   ],
   "source": [
    "labels"
   ]
  },
  {
   "cell_type": "code",
   "execution_count": null,
   "metadata": {},
   "outputs": [],
   "source": []
  },
  {
   "cell_type": "code",
   "execution_count": 401,
   "metadata": {},
   "outputs": [
    {
     "data": {
      "text/plain": [
       "([array([1., 0., 0., 0., 0., 1., 0., 0., 0., 3.]),\n",
       "  array([3., 0., 0., 0., 0., 1., 0., 0., 0., 1.])],\n",
       " array([1. , 1.2, 1.4, 1.6, 1.8, 2. , 2.2, 2.4, 2.6, 2.8, 3. ]),\n",
       " <a list of 2 Lists of Patches objects>)"
      ]
     },
     "execution_count": 401,
     "metadata": {},
     "output_type": "execute_result"
    },
    {
     "data": {
      "image/png": "[encoded data removed]",
      "text/plain": [
       "<Figure size 432x288 with 1 Axes>"
      ]
     },
     "metadata": {},
     "output_type": "display_data"
    }
   ],
   "source": [
    "plt.hist([[1,3,3,3, 2], [1,2,3, 1, 1]])"
   ]
  },
  {
   "cell_type": "code",
   "execution_count": null,
   "metadata": {},
   "outputs": [],
   "source": []
  }
 ],
 "metadata": {
  "kernelspec": {
   "display_name": "Python 3",
   "language": "python",
   "name": "python3"
  },
  "language_info": {
   "codemirror_mode": {
    "name": "ipython",
    "version": 3
   },
   "file_extension": ".py",
   "mimetype": "text/x-python",
   "name": "python",
   "nbconvert_exporter": "python",
   "pygments_lexer": "ipython3",
   "version": "3.6.4"
  }
 },
 "nbformat": 4,
 "nbformat_minor": 2
}
