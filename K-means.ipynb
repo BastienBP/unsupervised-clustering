{
 "cells": [
  {
   "cell_type": "code",
   "execution_count": 1,
   "metadata": {},
   "outputs": [],
   "source": [
    "k = 3"
   ]
  },
  {
   "cell_type": "code",
   "execution_count": 4,
   "metadata": {},
   "outputs": [],
   "source": [
    "import numpy as np"
   ]
  },
  {
   "cell_type": "code",
   "execution_count": 14,
   "metadata": {},
   "outputs": [],
   "source": [
    "clusters = []\n",
    "for i in range(k):\n",
    "    clusters.extend(np.random.rand(10,2) + i)\n",
    "    "
   ]
  },
  {
   "cell_type": "code",
   "execution_count": 15,
   "metadata": {},
   "outputs": [
    {
     "data": {
      "text/plain": [
       "[array([0.1798635, 0.7000377]),\n",
       " array([0.03939496, 0.81562088]),\n",
       " array([0.19814754, 0.10956981]),\n",
       " array([0.47290804, 0.25569329]),\n",
       " array([0.81351271, 0.32025867]),\n",
       " array([0.8089178 , 0.80595888]),\n",
       " array([0.61570072, 0.76800887]),\n",
       " array([0.50465681, 0.75153627]),\n",
       " array([0.89304407, 0.71168959]),\n",
       " array([0.02554149, 0.21082566]),\n",
       " array([1.57351907, 1.40945265]),\n",
       " array([1.10434167, 1.70613109]),\n",
       " array([1.50047096, 1.23191636]),\n",
       " array([1.75014276, 1.39743998]),\n",
       " array([1.54182703, 1.34940899]),\n",
       " array([1.94896887, 1.21142841]),\n",
       " array([1.51479066, 1.46755404]),\n",
       " array([1.03909013, 1.78717706]),\n",
       " array([1.25609294, 1.76413226]),\n",
       " array([1.45332918, 1.03170761]),\n",
       " array([2.65011568, 2.03755698]),\n",
       " array([2.58949989, 2.56992527]),\n",
       " array([2.92194481, 2.53024091]),\n",
       " array([2.33582672, 2.50000028]),\n",
       " array([2.35030943, 2.08730884]),\n",
       " array([2.72325727, 2.02340061]),\n",
       " array([2.93927883, 2.83129706]),\n",
       " array([2.4711755 , 2.39395891]),\n",
       " array([2.40141284, 2.32875561]),\n",
       " array([2.35866492, 2.72593413])]"
      ]
     },
     "execution_count": 15,
     "metadata": {},
     "output_type": "execute_result"
    }
   ],
   "source": []
  },
  {
   "cell_type": "code",
   "execution_count": null,
   "metadata": {},
   "outputs": [],
   "source": []
  }
 ],
 "metadata": {
  "kernelspec": {
   "display_name": "Python 3",
   "language": "python",
   "name": "python3"
  },
  "language_info": {
   "codemirror_mode": {
    "name": "ipython",
    "version": 3
   },
   "file_extension": ".py",
   "mimetype": "text/x-python",
   "name": "python",
   "nbconvert_exporter": "python",
   "pygments_lexer": "ipython3",
   "version": "3.6.4"
  }
 },
 "nbformat": 4,
 "nbformat_minor": 2
}
